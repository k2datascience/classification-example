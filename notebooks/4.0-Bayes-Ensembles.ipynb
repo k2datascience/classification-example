{
 "cells": [
  {
   "cell_type": "markdown",
   "metadata": {},
   "source": [
    "# Bank Classification Project - Pipelines & Ensembles"
   ]
  },
  {
   "cell_type": "code",
   "execution_count": 1,
   "metadata": {
    "collapsed": false
   },
   "outputs": [],
   "source": [
    "# Imports\n",
    "%matplotlib inline\n",
    "import matplotlib.pyplot as plt\n",
    "import seaborn as sns\n",
    "import pickle\n",
    "\n",
    "import pandas as pd\n",
    "import numpy as np\n",
    "from itertools import cycle\n",
    "from scipy import interp\n",
    "\n",
    "from sklearn.linear_model import LogisticRegression\n",
    "from sklearn.tree import DecisionTreeClassifier\n",
    "from sklearn.neighbors import KNeighborsClassifier\n",
    "from sklearn.naive_bayes import GaussianNB, BernoulliNB\n",
    "from sklearn.svm import SVC\n",
    "\n",
    "from sklearn.ensemble import VotingClassifier, BaggingClassifier\n",
    "from sklearn.ensemble import RandomForestClassifier, ExtraTreesClassifier\n",
    "from sklearn.ensemble import AdaBoostClassifier, GradientBoostingClassifier\n",
    "\n",
    "from sklearn.model_selection import StratifiedShuffleSplit\n",
    "from sklearn.base import BaseEstimator, TransformerMixin\n",
    "from sklearn.pipeline import Pipeline, FeatureUnion\n",
    "from sklearn.preprocessing import LabelBinarizer\n",
    "from sklearn.preprocessing import Imputer\n",
    "from sklearn.preprocessing import StandardScaler\n",
    "\n",
    "from sklearn.model_selection import train_test_split, cross_val_score, cross_val_predict\n",
    "from sklearn.model_selection import learning_curve, validation_curve\n",
    "from sklearn.model_selection import GridSearchCV, StratifiedKFold\n",
    "\n",
    "from sklearn.metrics import confusion_matrix \n",
    "from sklearn.metrics import precision_score, recall_score, f1_score\n",
    "from sklearn.metrics import precision_recall_curve, average_precision_score\n",
    "from sklearn.metrics import roc_curve, auc, roc_auc_score, accuracy_score\n",
    "from sklearn.metrics import classification_report\n",
    "\n",
    "from pylab import rcParams\n",
    "rcParams['figure.figsize'] = 10, 6"
   ]
  },
  {
   "cell_type": "code",
   "execution_count": 2,
   "metadata": {
    "collapsed": false
   },
   "outputs": [],
   "source": [
    "# Load data\n",
    "bank_data = pickle.load(open('../data/processed/bank_data.pkl', 'rb'))"
   ]
  },
  {
   "cell_type": "code",
   "execution_count": 3,
   "metadata": {
    "collapsed": false
   },
   "outputs": [],
   "source": [
    "del bank_data['duration']"
   ]
  },
  {
   "cell_type": "code",
   "execution_count": 4,
   "metadata": {
    "collapsed": true
   },
   "outputs": [],
   "source": [
    "# Stratified train test split\n",
    "split = StratifiedShuffleSplit(n_splits=1, test_size=0.2, random_state=42)\n",
    "for train_index, test_index in split.split(bank_data, bank_data[\"y\"]):\n",
    "    strat_train_set = bank_data.loc[train_index]\n",
    "    strat_test_set = bank_data.loc[test_index]"
   ]
  },
  {
   "cell_type": "code",
   "execution_count": 5,
   "metadata": {
    "collapsed": true
   },
   "outputs": [],
   "source": [
    "bank = strat_train_set.drop(\"y\", axis=1)\n",
    "bank_labels = strat_train_set[\"y\"].copy()"
   ]
  },
  {
   "cell_type": "code",
   "execution_count": 6,
   "metadata": {
    "collapsed": false
   },
   "outputs": [
    {
     "data": {
      "text/plain": [
       "Index(['y', 'age', 'default', 'housing', 'loan', 'campaign', 'pdays',\n",
       "       'previous', 'emp.var.rate', 'cons.price.idx', 'cons.conf.idx',\n",
       "       'euribor3m', 'nr.employed', 'job_admin.', 'job_blue-collar',\n",
       "       'job_entrepreneur', 'job_housemaid', 'job_management', 'job_retired',\n",
       "       'job_self-employed', 'job_services', 'job_student', 'job_technician',\n",
       "       'job_unemployed', 'marital_divorced', 'marital_married',\n",
       "       'marital_single', 'education_basic.4y', 'education_basic.6y',\n",
       "       'education_basic.9y', 'education_high.school', 'education_illiterate',\n",
       "       'education_professional.course', 'education_university.degree',\n",
       "       'contact_cellular', 'contact_telephone', 'month_apr', 'month_aug',\n",
       "       'month_dec', 'month_jul', 'month_jun', 'month_mar', 'month_may',\n",
       "       'month_nov', 'month_oct', 'month_sep', 'day_of_week_fri',\n",
       "       'day_of_week_mon', 'day_of_week_thu', 'day_of_week_tue',\n",
       "       'day_of_week_wed', 'poutcome_failure', 'poutcome_nonexistent',\n",
       "       'poutcome_success'],\n",
       "      dtype='object')"
      ]
     },
     "execution_count": 6,
     "metadata": {},
     "output_type": "execute_result"
    }
   ],
   "source": [
    "bank_data.columns"
   ]
  },
  {
   "cell_type": "code",
   "execution_count": 7,
   "metadata": {
    "collapsed": true
   },
   "outputs": [],
   "source": [
    "# Set numerical and categorial\n",
    "num_attribs = ['age', 'campaign', 'pdays', 'previous', 'emp.var.rate', 'cons.price.idx',\n",
    "           'cons.conf.idx', 'euribor3m', 'nr.employed']\n",
    "\n",
    "cat_attribs = list(set(num_attribs).symmetric_difference(bank.columns))"
   ]
  },
  {
   "cell_type": "code",
   "execution_count": 8,
   "metadata": {
    "collapsed": true
   },
   "outputs": [],
   "source": [
    "# Create a class to select numerical or categorical columns \n",
    "class DataFrameSelector(BaseEstimator, TransformerMixin):\n",
    "    def __init__(self, attribute_names):\n",
    "        self.attribute_names = attribute_names\n",
    "    def fit(self, X, y=None):\n",
    "        return self\n",
    "    def transform(self, X):\n",
    "        return X[self.attribute_names].values"
   ]
  },
  {
   "cell_type": "code",
   "execution_count": 9,
   "metadata": {
    "collapsed": false
   },
   "outputs": [],
   "source": [
    "# Issue with sklearn \n",
    "num_pipeline = Pipeline([\n",
    "        ('selector', DataFrameSelector(num_attribs)),\n",
    "        ('std_scaler', StandardScaler()),\n",
    "    ])\n",
    "\n",
    "cat_pipeline = Pipeline([\n",
    "        ('selector', DataFrameSelector(cat_attribs)),\n",
    "    ])\n",
    "\n",
    "full_pipeline = FeatureUnion(transformer_list=[\n",
    "        (\"num_pipeline\", num_pipeline),\n",
    "        (\"cat_pipeline\", cat_pipeline),\n",
    "    ])"
   ]
  },
  {
   "cell_type": "code",
   "execution_count": 10,
   "metadata": {
    "collapsed": false
   },
   "outputs": [
    {
     "data": {
      "text/plain": [
       "array([[  8.63738767e-01,   5.22981281e-01,   2.02465405e-04, ...,\n",
       "          1.00000000e+00,   0.00000000e+00,   1.00000000e+00],\n",
       "       [ -2.89721585e-01,  -2.03687910e-01,   2.02465405e-04, ...,\n",
       "          0.00000000e+00,   0.00000000e+00,   1.00000000e+00],\n",
       "       [  3.65126795e+00,  -5.67022506e-01,   2.02465405e-04, ...,\n",
       "          0.00000000e+00,   0.00000000e+00,   1.00000000e+00],\n",
       "       ..., \n",
       "       [  1.34434725e+00,   5.22981281e-01,   2.02465405e-04, ...,\n",
       "          1.00000000e+00,   0.00000000e+00,   1.00000000e+00],\n",
       "       [ -1.05869515e+00,  -5.67022506e-01,   2.02465405e-04, ...,\n",
       "          0.00000000e+00,   0.00000000e+00,   1.00000000e+00],\n",
       "       [ -4.81964978e-01,   1.59646685e-01,   2.02465405e-04, ...,\n",
       "          0.00000000e+00,   0.00000000e+00,   1.00000000e+00]])"
      ]
     },
     "execution_count": 10,
     "metadata": {},
     "output_type": "execute_result"
    }
   ],
   "source": [
    "bank_prepared = full_pipeline.fit_transform(bank)\n",
    "bank_prepared"
   ]
  },
  {
   "cell_type": "code",
   "execution_count": 11,
   "metadata": {
    "collapsed": false
   },
   "outputs": [
    {
     "data": {
      "text/plain": [
       "53"
      ]
     },
     "execution_count": 11,
     "metadata": {},
     "output_type": "execute_result"
    }
   ],
   "source": [
    "len(bank_prepared[0])"
   ]
  },
  {
   "cell_type": "code",
   "execution_count": 12,
   "metadata": {
    "collapsed": false
   },
   "outputs": [
    {
     "data": {
      "text/plain": [
       "array([  8.63738767e-01,   5.22981281e-01,   2.02465405e-04,\n",
       "        -3.50126911e-01,  -1.14858418e-01,  -6.48966644e-01,\n",
       "        -3.22269247e-01,   2.88964394e-01,   3.98990303e-01,\n",
       "         0.00000000e+00,   0.00000000e+00,   0.00000000e+00,\n",
       "         1.00000000e+00,   0.00000000e+00,   0.00000000e+00,\n",
       "         0.00000000e+00,   0.00000000e+00,   0.00000000e+00,\n",
       "         0.00000000e+00,   0.00000000e+00,   0.00000000e+00,\n",
       "         0.00000000e+00,   0.00000000e+00,   0.00000000e+00,\n",
       "         0.00000000e+00,   0.00000000e+00,   0.00000000e+00,\n",
       "         1.00000000e+00,   0.00000000e+00,   0.00000000e+00,\n",
       "         0.00000000e+00,   0.00000000e+00,   0.00000000e+00,\n",
       "         0.00000000e+00,   0.00000000e+00,   1.00000000e+00,\n",
       "         0.00000000e+00,   1.00000000e+00,   0.00000000e+00,\n",
       "         0.00000000e+00,   0.00000000e+00,   0.00000000e+00,\n",
       "         0.00000000e+00,   0.00000000e+00,   0.00000000e+00,\n",
       "         0.00000000e+00,   0.00000000e+00,   0.00000000e+00,\n",
       "         1.00000000e+00,   0.00000000e+00,   1.00000000e+00,\n",
       "         0.00000000e+00,   1.00000000e+00])"
      ]
     },
     "execution_count": 12,
     "metadata": {},
     "output_type": "execute_result"
    }
   ],
   "source": [
    "bank_prepared[0]"
   ]
  },
  {
   "cell_type": "markdown",
   "metadata": {},
   "source": [
    "*Lots of Dimensions.*"
   ]
  },
  {
   "cell_type": "markdown",
   "metadata": {},
   "source": [
    "## Bernoulli Trials"
   ]
  },
  {
   "cell_type": "code",
   "execution_count": 13,
   "metadata": {
    "collapsed": false
   },
   "outputs": [],
   "source": [
    "bank_bernoulli = bank_prepared[:, 9:]"
   ]
  },
  {
   "cell_type": "code",
   "execution_count": 14,
   "metadata": {
    "collapsed": false
   },
   "outputs": [
    {
     "data": {
      "image/png": "[encoded data removed]",
      "text/plain": [
       "<matplotlib.figure.Figure at 0x106d1b668>"
      ]
     },
     "metadata": {},
     "output_type": "display_data"
    }
   ],
   "source": [
    "# NB model that assumes data is distribued according to multivariate Bernoulli distributions\n",
    "cv_scores = cross_val_score(BernoulliNB(), bank_bernoulli, bank_labels, cv=10)\n",
    "sns.distplot(cv_scores)\n",
    "plt.title('Average score: {}'.format(np.mean(cv_scores)));"
   ]
  },
  {
   "cell_type": "code",
   "execution_count": 15,
   "metadata": {
    "collapsed": false
   },
   "outputs": [
    {
     "name": "stdout",
     "output_type": "stream",
     "text": [
      "Best score: 0.8784522003034901\n",
      "Best parameters: {'alpha': 2}\n"
     ]
    }
   ],
   "source": [
    "# Grid search with a stratified KFold\n",
    "parameter_grid = {\n",
    "    'alpha': [0.001, 0.01, 0.1, 0.5, 1, 2, 5]\n",
    "}\n",
    "\n",
    "cross_validation = StratifiedKFold(n_splits=10)\n",
    "\n",
    "gs = GridSearchCV(BernoulliNB(),\n",
    "                  param_grid=parameter_grid,\n",
    "                  cv=cross_validation)\n",
    "\n",
    "gs.fit(bank_bernoulli, bank_labels)\n",
    "print('Best score: {}'.format(gs.best_score_))\n",
    "print('Best parameters: {}'.format(gs.best_params_))"
   ]
  },
  {
   "cell_type": "code",
   "execution_count": 16,
   "metadata": {
    "collapsed": false
   },
   "outputs": [
    {
     "name": "stdout",
     "output_type": "stream",
     "text": [
      "\n",
      "Average Accuracy 0.88 +/- 0.00\n"
     ]
    }
   ],
   "source": [
    "# Nested 5x2 Cross-validation\n",
    "parameter_grid = {\n",
    "    'alpha': [0.001, 0.01, 0.1, 0.5, 1, 2, 5]\n",
    "}\n",
    "\n",
    "gs = GridSearchCV(BernoulliNB(),\n",
    "                  param_grid=parameter_grid,\n",
    "                  cv=2)\n",
    "\n",
    "scores = cross_val_score(gs, bank_bernoulli, bank_labels, scoring='accuracy', cv=5)\n",
    "print('\\nAverage Accuracy %.2f +/- %.2f' % (np.mean(scores), np.std(scores)))"
   ]
  },
  {
   "cell_type": "code",
   "execution_count": 17,
   "metadata": {
    "collapsed": true
   },
   "outputs": [],
   "source": [
    "X_test = strat_test_set.drop(\"y\", axis=1)\n",
    "y_test = strat_test_set[\"y\"].copy()\n",
    "\n",
    "X_test_prepared = full_pipeline.transform(X_test)"
   ]
  },
  {
   "cell_type": "code",
   "execution_count": 18,
   "metadata": {
    "collapsed": false
   },
   "outputs": [
    {
     "name": "stdout",
     "output_type": "stream",
     "text": [
      "Test accuracy: 0.881\n",
      "Test recall: 0.322\n"
     ]
    }
   ],
   "source": [
    "gs.fit(bank_bernoulli, bank_labels)\n",
    "clf = gs.best_estimator_\n",
    "clf.fit(bank_bernoulli, bank_labels)\n",
    "print('Test accuracy: %.3f' % clf.score(X_test_prepared[:, 9:], y_test))\n",
    "y_pred = clf.predict(X_test_prepared[:, 9:])\n",
    "print('Test recall: %.3f' % recall_score(y_test, y_pred, pos_label=1))"
   ]
  },
  {
   "cell_type": "code",
   "execution_count": 19,
   "metadata": {
    "collapsed": false
   },
   "outputs": [
    {
     "name": "stdout",
     "output_type": "stream",
     "text": [
      "# Tuning hyper-parameters for recall\n",
      "\n",
      "Best parameters set found on development set:\n",
      "\n",
      "{'alpha': 0.5}\n",
      "\n",
      "Grid scores on development set:\n",
      "\n",
      "0.640 (+/-0.010) for {'alpha': 0.001}\n",
      "0.640 (+/-0.010) for {'alpha': 0.01}\n",
      "0.640 (+/-0.010) for {'alpha': 0.1}\n",
      "0.640 (+/-0.011) for {'alpha': 0.5}\n",
      "0.640 (+/-0.011) for {'alpha': 1}\n",
      "0.639 (+/-0.011) for {'alpha': 2}\n",
      "0.639 (+/-0.011) for {'alpha': 5}\n",
      "\n",
      "Detailed classification report:\n",
      "\n",
      "The model is trained on the full development set.\n",
      "The scores are computed on the full evaluation set.\n",
      "\n",
      "             precision    recall  f1-score   support\n",
      "\n",
      "          0       0.92      0.95      0.93      7310\n",
      "          1       0.46      0.32      0.38       928\n",
      "\n",
      "avg / total       0.87      0.88      0.87      8238\n",
      "\n",
      "\n",
      "# Tuning hyper-parameters for precision\n",
      "\n",
      "Best parameters set found on development set:\n",
      "\n",
      "{'alpha': 0.5}\n",
      "\n",
      "Grid scores on development set:\n",
      "\n",
      "0.682 (+/-0.025) for {'alpha': 0.001}\n",
      "0.682 (+/-0.025) for {'alpha': 0.01}\n",
      "0.682 (+/-0.025) for {'alpha': 0.1}\n",
      "0.682 (+/-0.026) for {'alpha': 0.5}\n",
      "0.682 (+/-0.026) for {'alpha': 1}\n",
      "0.682 (+/-0.025) for {'alpha': 2}\n",
      "0.682 (+/-0.025) for {'alpha': 5}\n",
      "\n",
      "Detailed classification report:\n",
      "\n",
      "The model is trained on the full development set.\n",
      "The scores are computed on the full evaluation set.\n",
      "\n",
      "             precision    recall  f1-score   support\n",
      "\n",
      "          0       0.92      0.95      0.93      7310\n",
      "          1       0.46      0.32      0.38       928\n",
      "\n",
      "avg / total       0.87      0.88      0.87      8238\n",
      "\n",
      "\n"
     ]
    }
   ],
   "source": [
    "# Set the parameters by cross-validation\n",
    "tuned_parameters = [{'alpha': [0.001, 0.01, 0.1, 0.5, 1, 2, 5]}]\n",
    "\n",
    "scores = ['recall', 'precision']\n",
    "\n",
    "for score in scores:\n",
    "    print(\"# Tuning hyper-parameters for %s\" % score)\n",
    "    print()\n",
    "\n",
    "    clf = GridSearchCV(BernoulliNB(), tuned_parameters, cv=5,\n",
    "                       scoring='%s_macro' % score)\n",
    "    clf.fit(bank_bernoulli, bank_labels)\n",
    "\n",
    "    print(\"Best parameters set found on development set:\")\n",
    "    print()\n",
    "    print(clf.best_params_)\n",
    "    print()\n",
    "    print(\"Grid scores on development set:\")\n",
    "    print()\n",
    "    means = clf.cv_results_['mean_test_score']\n",
    "    stds = clf.cv_results_['std_test_score']\n",
    "    for mean, std, params in zip(means, stds, clf.cv_results_['params']):\n",
    "        print(\"%0.3f (+/-%0.03f) for %r\"\n",
    "              % (mean, std * 2, params))\n",
    "    print()\n",
    "\n",
    "    print(\"Detailed classification report:\")\n",
    "    print()\n",
    "    print(\"The model is trained on the full development set.\")\n",
    "    print(\"The scores are computed on the full evaluation set.\")\n",
    "    print()\n",
    "    y_true, y_pred = y_test, clf.predict(X_test_prepared[:, 9:])\n",
    "    print(classification_report(y_true, y_pred))\n",
    "    print()\n"
   ]
  },
  {
   "cell_type": "code",
   "execution_count": 20,
   "metadata": {
    "collapsed": false
   },
   "outputs": [
    {
     "name": "stdout",
     "output_type": "stream",
     "text": [
      "Test accuracy: 0.881\n",
      "Test recall: 0.322\n"
     ]
    }
   ],
   "source": [
    "gs.fit(bank_bernoulli, bank_labels)\n",
    "clf = gs.best_estimator_\n",
    "clf.fit(bank_bernoulli, bank_labels)\n",
    "print('Test accuracy: %.3f' % clf.score(X_test_prepared[:, 9:], y_test))\n",
    "y_pred = clf.predict(X_test_prepared[:, 9:])\n",
    "print('Test recall: %.3f' % recall_score(y_test, y_pred, pos_label=1))"
   ]
  },
  {
   "cell_type": "code",
   "execution_count": 21,
   "metadata": {
    "collapsed": true
   },
   "outputs": [],
   "source": [
    "# play around with decision thresholds\n",
    "y_labels = BernoulliNB().fit(bank_bernoulli, bank_labels).predict(X_test_prepared[:, 9:])\n",
    "y_probas = BernoulliNB().fit(bank_bernoulli, bank_labels).predict_proba(X_test_prepared[:, 9:])[:, 1]"
   ]
  },
  {
   "cell_type": "code",
   "execution_count": 22,
   "metadata": {
    "collapsed": true
   },
   "outputs": [],
   "source": [
    "# New labels\n",
    "def update_labels(y, threshold=0.5):\n",
    "    if y > threshold:\n",
    "        label = 1\n",
    "    else:\n",
    "        label = 0\n",
    "\n",
    "    return label"
   ]
  },
  {
   "cell_type": "code",
   "execution_count": 23,
   "metadata": {
    "collapsed": false
   },
   "outputs": [
    {
     "name": "stdout",
     "output_type": "stream",
     "text": [
      "Precision: 0.163\n",
      "Recall: 0.805\n",
      "F1: 0.271\n"
     ]
    }
   ],
   "source": [
    "# higher recall\n",
    "new_labels = [update_labels(y, threshold=0.05) for y in list(y_probas)]\n",
    "# y_test_binary = y_test.map(dict(yes=1, no=0)).values\n",
    "\n",
    "print('Precision: %.3f' % precision_score(y_true=y_test, y_pred=new_labels))\n",
    "print('Recall: %.3f' % recall_score(y_true=y_test, y_pred=new_labels))\n",
    "print('F1: %.3f' % f1_score(y_true=y_test, y_pred=new_labels))"
   ]
  },
  {
   "cell_type": "code",
   "execution_count": 24,
   "metadata": {
    "collapsed": false
   },
   "outputs": [
    {
     "data": {
      "text/plain": [
       "8238"
      ]
     },
     "execution_count": 24,
     "metadata": {},
     "output_type": "execute_result"
    }
   ],
   "source": [
    "len(new_labels)"
   ]
  },
  {
   "cell_type": "code",
   "execution_count": 25,
   "metadata": {
    "collapsed": false
   },
   "outputs": [
    {
     "name": "stdout",
     "output_type": "stream",
     "text": [
      "[[3468 3842]\n",
      " [ 181  747]]\n"
     ]
    }
   ],
   "source": [
    "confmat = confusion_matrix(y_true=y_test, y_pred=new_labels)\n",
    "print(confmat)"
   ]
  },
  {
   "cell_type": "code",
   "execution_count": 26,
   "metadata": {
    "collapsed": false
   },
   "outputs": [
    {
     "data": {
      "image/png": "[encoded data removed]",
      "text/plain": [
       "<matplotlib.figure.Figure at 0x11cb7e8d0>"
      ]
     },
     "metadata": {},
     "output_type": "display_data"
    }
   ],
   "source": [
    "# Pretty confusion matrix\n",
    "fig, ax = plt.subplots(figsize=(2.5, 2.5))\n",
    "ax.matshow(confmat, cmap=plt.cm.Blues, alpha=0.3)\n",
    "for i in range(confmat.shape[0]):\n",
    "    for j in range(confmat.shape[1]):\n",
    "        ax.text(x=j, y=i, s=confmat[i, j], va='center', ha='center')\n",
    "\n",
    "plt.xlabel('Predicted Label')\n",
    "plt.ylabel('True Label')\n",
    "\n",
    "plt.tight_layout()\n",
    "# plt.savefig('../reports/figures/confusion_matrix.png', dpi=300)\n",
    "plt.show()"
   ]
  },
  {
   "cell_type": "code",
   "execution_count": 27,
   "metadata": {
    "collapsed": false
   },
   "outputs": [],
   "source": [
    "# Serialize finalized model\n",
    "full_y = bank_data['y'].copy()\n",
    "full_bank = full_pipeline.fit_transform(bank_data.drop(\"y\", axis=1))\n",
    "full_bank_bernoulli = full_bank[:, 9:]\n",
    "clf = gs.best_estimator_\n",
    "clf.fit(full_bank_bernoulli, full_y)\n",
    "filename = '../models/finalized_model.sav'\n",
    "pickle.dump(clf, open(filename, 'wb'))"
   ]
  },
  {
   "cell_type": "markdown",
   "metadata": {},
   "source": [
    "## Ensembles"
   ]
  },
  {
   "cell_type": "code",
   "execution_count": 32,
   "metadata": {
    "collapsed": false
   },
   "outputs": [
    {
     "name": "stdout",
     "output_type": "stream",
     "text": [
      "RandomForestClassifier Accuracy:  0.894513231367\n",
      "RandomForestClassifier Recall:  0.296336206897\n"
     ]
    }
   ],
   "source": [
    "# Random Forests\n",
    "rf = RandomForestClassifier(n_estimators=100)\n",
    "rf.fit(bank_prepared, bank_labels)\n",
    "y_pred = rf.predict(X_test_prepared)\n",
    "print(rf.__class__.__name__, \"Accuracy: \", accuracy_score(y_test, y_pred))\n",
    "print(rf.__class__.__name__, \"Recall: \", recall_score(y_test, y_pred, pos_label=1))"
   ]
  },
  {
   "cell_type": "code",
   "execution_count": 33,
   "metadata": {
    "collapsed": false
   },
   "outputs": [
    {
     "data": {
      "text/plain": [
       "VotingClassifier(estimators=[('lr', LogisticRegression(C=1.0, class_weight=None, dual=False, fit_intercept=True,\n",
       "          intercept_scaling=1, max_iter=100, multi_class='ovr', n_jobs=1,\n",
       "          penalty='l2', random_state=None, solver='liblinear', tol=0.0001,\n",
       "          verbose=0, warm_start=False)), ('rf', RandomF...n_jobs=1,\n",
       "            oob_score=False, random_state=None, verbose=0,\n",
       "            warm_start=False))],\n",
       "         flatten_transform=None, n_jobs=1, voting='soft', weights=None)"
      ]
     },
     "execution_count": 33,
     "metadata": {},
     "output_type": "execute_result"
    }
   ],
   "source": [
    "# Majority voting \n",
    "log_clf = LogisticRegression()\n",
    "dt_clf = DecisionTreeClassifier()\n",
    "rnd_clf = RandomForestClassifier()\n",
    "\n",
    "voting_clf = VotingClassifier(\n",
    "    estimators=[('lr', log_clf), ('rf', rnd_clf)],\n",
    "    voting='soft'\n",
    ")\n",
    "\n",
    "voting_clf.fit(bank_prepared, bank_labels)"
   ]
  },
  {
   "cell_type": "code",
   "execution_count": 34,
   "metadata": {
    "collapsed": false
   },
   "outputs": [
    {
     "name": "stdout",
     "output_type": "stream",
     "text": [
      "LogisticRegression Accuracy: 0.900825443069\n",
      "LogisticRegression Recall: 0.215517241379\n",
      "DecisionTreeClassifier Accuracy: 0.841709152707\n",
      "DecisionTreeClassifier Recall: 0.348060344828\n",
      "RandomForestClassifier Accuracy: 0.889293517844\n",
      "RandomForestClassifier Recall: 0.26724137931\n",
      "VotingClassifier Accuracy: 0.900582665696\n",
      "VotingClassifier Recall: 0.26400862069\n"
     ]
    }
   ],
   "source": [
    "for clf in (log_clf, dt_clf, rnd_clf, voting_clf):\n",
    "    clf.fit(bank_prepared, bank_labels)\n",
    "    y_pred = clf.predict(X_test_prepared)\n",
    "    print(clf.__class__.__name__, \"Accuracy:\", accuracy_score(y_test, y_pred))\n",
    "    print(clf.__class__.__name__, \"Recall:\", recall_score(y_test, y_pred, pos_label=1))"
   ]
  },
  {
   "cell_type": "code",
   "execution_count": 35,
   "metadata": {
    "collapsed": false
   },
   "outputs": [
    {
     "name": "stdout",
     "output_type": "stream",
     "text": [
      "GradientBoostingClassifier Accuracy:  0.894634620053\n",
      "GradientBoostingClassifier Recall:  0.311422413793\n"
     ]
    }
   ],
   "source": [
    "gb_clf = GradientBoostingClassifier(max_depth=4, n_estimators=100, learning_rate=1.0, random_state=0)\n",
    "gb_clf.fit(bank_prepared, bank_labels)\n",
    "y_pred = gb_clf.predict(X_test_prepared)\n",
    "print(gb_clf.__class__.__name__, \"Accuracy: \", accuracy_score(y_test, y_pred))\n",
    "print(gb_clf.__class__.__name__, \"Recall: \", recall_score(y_test, y_pred, pos_label=1))"
   ]
  },
  {
   "cell_type": "code",
   "execution_count": null,
   "metadata": {
    "collapsed": true
   },
   "outputs": [],
   "source": []
  }
 ],
 "metadata": {
  "anaconda-cloud": {},
  "kernelspec": {
   "display_name": "Python [default]",
   "language": "python",
   "name": "python3"
  },
  "language_info": {
   "codemirror_mode": {
    "name": "ipython",
    "version": 3
   },
   "file_extension": ".py",
   "mimetype": "text/x-python",
   "name": "python",
   "nbconvert_exporter": "python",
   "pygments_lexer": "ipython3",
   "version": "3.5.2"
  }
 },
 "nbformat": 4,
 "nbformat_minor": 1
}
