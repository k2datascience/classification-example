{
 "cells": [
  {
   "cell_type": "markdown",
   "metadata": {},
   "source": [
    "# Bank Classification Project - Pipelines & Ensembles"
   ]
  },
  {
   "cell_type": "code",
   "execution_count": 1,
   "metadata": {
    "collapsed": false
   },
   "outputs": [],
   "source": [
    "# Imports\n",
    "%matplotlib inline\n",
    "import matplotlib.pyplot as plt\n",
    "import seaborn as sns\n",
    "\n",
    "import pandas as pd\n",
    "import numpy as np\n",
    "from itertools import cycle\n",
    "from scipy import interp\n",
    "\n",
    "from sklearn.linear_model import LogisticRegression\n",
    "from sklearn.tree import DecisionTreeClassifier\n",
    "from sklearn.neighbors import KNeighborsClassifier\n",
    "from sklearn.naive_bayes import GaussianNB, BernoulliNB\n",
    "from sklearn.svm import SVC\n",
    "\n",
    "from sklearn.ensemble import VotingClassifier, BaggingClassifier\n",
    "from sklearn.ensemble import RandomForestClassifier, ExtraTreesClassifier\n",
    "from sklearn.ensemble import AdaBoostClassifier, GradientBoostingClassifier\n",
    "\n",
    "from sklearn.model_selection import StratifiedShuffleSplit\n",
    "from sklearn.base import BaseEstimator, TransformerMixin\n",
    "from sklearn.pipeline import Pipeline, FeatureUnion\n",
    "from sklearn.preprocessing import LabelBinarizer\n",
    "from sklearn.preprocessing import Imputer\n",
    "from sklearn.preprocessing import StandardScaler\n",
    "\n",
    "from sklearn.model_selection import train_test_split, cross_val_score, cross_val_predict\n",
    "from sklearn.model_selection import learning_curve, validation_curve\n",
    "from sklearn.model_selection import GridSearchCV, StratifiedKFold\n",
    "\n",
    "from sklearn.metrics import confusion_matrix \n",
    "from sklearn.metrics import precision_score, recall_score, f1_score\n",
    "from sklearn.metrics import precision_recall_curve, average_precision_score\n",
    "from sklearn.metrics import roc_curve, auc, roc_auc_score, accuracy_score\n",
    "from sklearn.metrics import classification_report\n",
    "\n",
    "from pylab import rcParams\n",
    "rcParams['figure.figsize'] = 10, 6"
   ]
  },
  {
   "cell_type": "code",
   "execution_count": 2,
   "metadata": {
    "collapsed": true
   },
   "outputs": [],
   "source": [
    "# Load data\n",
    "bank_data = pd.read_csv('data/bank-additional/bank-additional-full.csv', \n",
    "                        sep=';', na_values=['NA'])"
   ]
  },
  {
   "cell_type": "code",
   "execution_count": 3,
   "metadata": {
    "collapsed": true
   },
   "outputs": [],
   "source": [
    "# Set numerical and categorial\n",
    "num_attribs = ['age', 'campaign', 'pdays', 'previous', 'emp.var.rate', 'cons.price.idx',\n",
    "           'cons.conf.idx', 'euribor3m', 'nr.employed']\n",
    "cat_attribs = ['job', 'marital', 'education', 'default', 'housing', 'loan',\n",
    "               'contact', 'month', 'day_of_week', 'poutcome']"
   ]
  },
  {
   "cell_type": "code",
   "execution_count": 4,
   "metadata": {
    "collapsed": true
   },
   "outputs": [],
   "source": [
    "# Get dummies, due to issue with sklearn - https://github.com/jpmml/sklearn2pmml/issues/36\n",
    "bank_data = pd.get_dummies(bank_data, columns=cat_attribs)\n",
    "cat_attribs = list(bank_data.columns[11:])"
   ]
  },
  {
   "cell_type": "code",
   "execution_count": 5,
   "metadata": {
    "collapsed": true
   },
   "outputs": [],
   "source": [
    "# Stratified train test split\n",
    "split = StratifiedShuffleSplit(n_splits=1, test_size=0.2, random_state=42)\n",
    "for train_index, test_index in split.split(bank_data, bank_data[\"y\"]):\n",
    "    strat_train_set = bank_data.loc[train_index]\n",
    "    strat_test_set = bank_data.loc[test_index]"
   ]
  },
  {
   "cell_type": "code",
   "execution_count": 6,
   "metadata": {
    "collapsed": true
   },
   "outputs": [],
   "source": [
    "bank = strat_train_set.drop(\"y\", axis=1)\n",
    "bank_labels = strat_train_set[\"y\"].copy()"
   ]
  },
  {
   "cell_type": "code",
   "execution_count": 7,
   "metadata": {
    "collapsed": true
   },
   "outputs": [],
   "source": [
    "# Create a class to select numerical or categorical columns \n",
    "class DataFrameSelector(BaseEstimator, TransformerMixin):\n",
    "    def __init__(self, attribute_names):\n",
    "        self.attribute_names = attribute_names\n",
    "    def fit(self, X, y=None):\n",
    "        return self\n",
    "    def transform(self, X):\n",
    "        return X[self.attribute_names].values"
   ]
  },
  {
   "cell_type": "code",
   "execution_count": 8,
   "metadata": {
    "collapsed": false
   },
   "outputs": [],
   "source": [
    "# Issue with sklearn \n",
    "num_pipeline = Pipeline([\n",
    "        ('selector', DataFrameSelector(num_attribs)),\n",
    "        ('imputer', Imputer(strategy=\"median\")),\n",
    "        ('std_scaler', StandardScaler()),\n",
    "    ])\n",
    "\n",
    "cat_pipeline = Pipeline([\n",
    "        ('selector', DataFrameSelector(cat_attribs)),\n",
    "        ('label_binarizer', LabelBinarizer()),\n",
    "    ])\n",
    "\n",
    "full_pipeline = FeatureUnion(transformer_list=[\n",
    "        (\"num_pipeline\", num_pipeline),\n",
    "        (\"cat_pipeline\", cat_pipeline),\n",
    "    ])"
   ]
  },
  {
   "cell_type": "code",
   "execution_count": 9,
   "metadata": {
    "collapsed": false
   },
   "outputs": [
    {
     "data": {
      "text/plain": [
       "array([[ 0.86373877,  0.52298128,  0.19658384, ...,  0.        ,\n",
       "         1.        ,  0.        ],\n",
       "       [-0.28972159, -0.20368791,  0.19658384, ...,  1.        ,\n",
       "         0.        ,  0.        ],\n",
       "       [ 3.65126795, -0.56702251,  0.19658384, ...,  0.        ,\n",
       "         1.        ,  0.        ],\n",
       "       ..., \n",
       "       [ 1.34434725,  0.52298128,  0.19658384, ...,  0.        ,\n",
       "         1.        ,  0.        ],\n",
       "       [-1.05869515, -0.56702251,  0.19658384, ...,  0.        ,\n",
       "         1.        ,  0.        ],\n",
       "       [-0.48196498,  0.15964669,  0.19658384, ...,  0.        ,\n",
       "         1.        ,  0.        ]])"
      ]
     },
     "execution_count": 9,
     "metadata": {},
     "output_type": "execute_result"
    }
   ],
   "source": [
    "bank_prepared = full_pipeline.fit_transform(bank)\n",
    "bank_prepared"
   ]
  },
  {
   "cell_type": "code",
   "execution_count": 10,
   "metadata": {
    "collapsed": false
   },
   "outputs": [
    {
     "data": {
      "text/plain": [
       "array([ 0.86373877,  0.52298128,  0.19658384, -0.35012691, -0.11485842,\n",
       "       -0.64896664, -0.32226925,  0.28896439,  0.3989903 ,  0.        ,\n",
       "        1.        ,  0.        ,  0.        ,  0.        ,  0.        ,\n",
       "        0.        ,  0.        ,  0.        ,  0.        ,  0.        ,\n",
       "        0.        ,  0.        ,  1.        ,  0.        ,  0.        ,\n",
       "        0.        ,  0.        ,  1.        ,  0.        ,  0.        ,\n",
       "        0.        ,  0.        ,  0.        ,  0.        ,  1.        ,\n",
       "        0.        ,  1.        ,  0.        ,  0.        ,  1.        ,\n",
       "        0.        ,  0.        ,  1.        ,  0.        ,  0.        ,\n",
       "        0.        ,  0.        ,  0.        ,  0.        ,  0.        ,\n",
       "        0.        ,  1.        ,  0.        ,  0.        ,  0.        ,\n",
       "        0.        ,  0.        ,  0.        ,  1.        ,  0.        ,\n",
       "        1.        ,  0.        ])"
      ]
     },
     "execution_count": 10,
     "metadata": {},
     "output_type": "execute_result"
    }
   ],
   "source": [
    "bank_prepared[0]"
   ]
  },
  {
   "cell_type": "markdown",
   "metadata": {},
   "source": [
    "*Lots of Dimensions.*"
   ]
  },
  {
   "cell_type": "markdown",
   "metadata": {},
   "source": [
    "## Bernoulli Trials"
   ]
  },
  {
   "cell_type": "code",
   "execution_count": 11,
   "metadata": {
    "collapsed": false
   },
   "outputs": [],
   "source": [
    "bank_bernoulli = bank_prepared[:, 9:]"
   ]
  },
  {
   "cell_type": "code",
   "execution_count": 12,
   "metadata": {
    "collapsed": false
   },
   "outputs": [
    {
     "data": {
      "image/png": "[encoded data removed]",
      "text/plain": [
       "<matplotlib.figure.Figure at 0x105e8b198>"
      ]
     },
     "metadata": {},
     "output_type": "display_data"
    }
   ],
   "source": [
    "# NB model that assumes data is distribued according to multivariate Bernoulli distributions\n",
    "cv_scores = cross_val_score(BernoulliNB(), bank_bernoulli, bank_labels, cv=10)\n",
    "sns.distplot(cv_scores)\n",
    "plt.title('Average score: {}'.format(np.mean(cv_scores)));"
   ]
  },
  {
   "cell_type": "code",
   "execution_count": 13,
   "metadata": {
    "collapsed": false
   },
   "outputs": [
    {
     "name": "stdout",
     "output_type": "stream",
     "text": [
      "Best score: 0.8709256449165402\n",
      "Best parameters: {'alpha': 5}\n"
     ]
    }
   ],
   "source": [
    "# Grid search with a stratified KFold\n",
    "parameter_grid = {\n",
    "    'alpha': [0.001, 0.01, 0.1, 0.5, 1, 2, 5]\n",
    "}\n",
    "\n",
    "cross_validation = StratifiedKFold(n_splits=10)\n",
    "\n",
    "gs = GridSearchCV(BernoulliNB(),\n",
    "                  param_grid=parameter_grid,\n",
    "                  cv=cross_validation)\n",
    "\n",
    "gs.fit(bank_bernoulli, bank_labels)\n",
    "print('Best score: {}'.format(gs.best_score_))\n",
    "print('Best parameters: {}'.format(gs.best_params_))"
   ]
  },
  {
   "cell_type": "code",
   "execution_count": 14,
   "metadata": {
    "collapsed": false
   },
   "outputs": [
    {
     "name": "stdout",
     "output_type": "stream",
     "text": [
      "\n",
      "Average Accuracy 0.87 +/- 0.00\n"
     ]
    }
   ],
   "source": [
    "# Nested 5x2 Cross-validation\n",
    "parameter_grid = {\n",
    "    'alpha': [0.001, 0.01, 0.1, 0.5, 1, 2, 5]\n",
    "}\n",
    "\n",
    "gs = GridSearchCV(BernoulliNB(),\n",
    "                  param_grid=parameter_grid,\n",
    "                  cv=2)\n",
    "\n",
    "scores = cross_val_score(gs, bank_bernoulli, bank_labels, scoring='accuracy', cv=5)\n",
    "print('\\nAverage Accuracy %.2f +/- %.2f' % (np.mean(scores), np.std(scores)))"
   ]
  },
  {
   "cell_type": "code",
   "execution_count": 15,
   "metadata": {
    "collapsed": true
   },
   "outputs": [],
   "source": [
    "X_test = strat_test_set.drop(\"y\", axis=1)\n",
    "y_test = strat_test_set[\"y\"].copy()\n",
    "\n",
    "X_test_prepared = full_pipeline.transform(X_test)"
   ]
  },
  {
   "cell_type": "code",
   "execution_count": 16,
   "metadata": {
    "collapsed": false
   },
   "outputs": [
    {
     "name": "stdout",
     "output_type": "stream",
     "text": [
      "Test accuracy: 0.875\n",
      "Test recall: 0.367\n"
     ]
    }
   ],
   "source": [
    "gs.fit(bank_bernoulli, bank_labels)\n",
    "clf = gs.best_estimator_\n",
    "clf.fit(bank_bernoulli, bank_labels)\n",
    "print('Test accuracy: %.3f' % clf.score(X_test_prepared[:, 9:], y_test))\n",
    "y_pred = clf.predict(X_test_prepared[:, 9:])\n",
    "print('Test recall: %.3f' % recall_score(y_test, y_pred, pos_label=\"yes\"))"
   ]
  },
  {
   "cell_type": "code",
   "execution_count": 17,
   "metadata": {
    "collapsed": false
   },
   "outputs": [
    {
     "name": "stdout",
     "output_type": "stream",
     "text": [
      "# Tuning hyper-parameters for recall\n",
      "\n",
      "Best parameters set found on development set:\n",
      "\n",
      "{'alpha': 1}\n",
      "\n",
      "Grid scores on development set:\n",
      "\n",
      "0.651 (+/-0.014) for {'alpha': 0.001}\n",
      "0.651 (+/-0.014) for {'alpha': 0.01}\n",
      "0.651 (+/-0.014) for {'alpha': 0.1}\n",
      "0.651 (+/-0.014) for {'alpha': 0.5}\n",
      "0.651 (+/-0.014) for {'alpha': 1}\n",
      "0.651 (+/-0.014) for {'alpha': 2}\n",
      "0.651 (+/-0.012) for {'alpha': 5}\n",
      "\n",
      "Detailed classification report:\n",
      "\n",
      "The model is trained on the full development set.\n",
      "The scores are computed on the full evaluation set.\n",
      "\n",
      "             precision    recall  f1-score   support\n",
      "\n",
      "         no       0.92      0.94      0.93      7310\n",
      "        yes       0.43      0.37      0.40       928\n",
      "\n",
      "avg / total       0.87      0.87      0.87      8238\n",
      "\n",
      "\n",
      "# Tuning hyper-parameters for precision\n",
      "\n",
      "Best parameters set found on development set:\n",
      "\n",
      "{'alpha': 5}\n",
      "\n",
      "Grid scores on development set:\n",
      "\n",
      "0.670 (+/-0.024) for {'alpha': 0.001}\n",
      "0.670 (+/-0.024) for {'alpha': 0.01}\n",
      "0.670 (+/-0.024) for {'alpha': 0.1}\n",
      "0.670 (+/-0.024) for {'alpha': 0.5}\n",
      "0.670 (+/-0.024) for {'alpha': 1}\n",
      "0.670 (+/-0.024) for {'alpha': 2}\n",
      "0.670 (+/-0.023) for {'alpha': 5}\n",
      "\n",
      "Detailed classification report:\n",
      "\n",
      "The model is trained on the full development set.\n",
      "The scores are computed on the full evaluation set.\n",
      "\n",
      "             precision    recall  f1-score   support\n",
      "\n",
      "         no       0.92      0.94      0.93      7310\n",
      "        yes       0.43      0.37      0.40       928\n",
      "\n",
      "avg / total       0.87      0.87      0.87      8238\n",
      "\n",
      "\n"
     ]
    }
   ],
   "source": [
    "# Set the parameters by cross-validation\n",
    "tuned_parameters = [{'alpha': [0.001, 0.01, 0.1, 0.5, 1, 2, 5]}]\n",
    "\n",
    "scores = ['recall', 'precision']\n",
    "\n",
    "for score in scores:\n",
    "    print(\"# Tuning hyper-parameters for %s\" % score)\n",
    "    print()\n",
    "\n",
    "    clf = GridSearchCV(BernoulliNB(), tuned_parameters, cv=5,\n",
    "                       scoring='%s_macro' % score)\n",
    "    clf.fit(bank_bernoulli, bank_labels)\n",
    "\n",
    "    print(\"Best parameters set found on development set:\")\n",
    "    print()\n",
    "    print(clf.best_params_)\n",
    "    print()\n",
    "    print(\"Grid scores on development set:\")\n",
    "    print()\n",
    "    means = clf.cv_results_['mean_test_score']\n",
    "    stds = clf.cv_results_['std_test_score']\n",
    "    for mean, std, params in zip(means, stds, clf.cv_results_['params']):\n",
    "        print(\"%0.3f (+/-%0.03f) for %r\"\n",
    "              % (mean, std * 2, params))\n",
    "    print()\n",
    "\n",
    "    print(\"Detailed classification report:\")\n",
    "    print()\n",
    "    print(\"The model is trained on the full development set.\")\n",
    "    print(\"The scores are computed on the full evaluation set.\")\n",
    "    print()\n",
    "    y_true, y_pred = y_test, clf.predict(X_test_prepared[:, 9:])\n",
    "    print(classification_report(y_true, y_pred))\n",
    "    print()\n"
   ]
  },
  {
   "cell_type": "code",
   "execution_count": 18,
   "metadata": {
    "collapsed": false
   },
   "outputs": [
    {
     "name": "stdout",
     "output_type": "stream",
     "text": [
      "Test accuracy: 0.875\n",
      "Test recall: 0.367\n"
     ]
    }
   ],
   "source": [
    "gs.fit(bank_bernoulli, bank_labels)\n",
    "clf = gs.best_estimator_\n",
    "clf.fit(bank_bernoulli, bank_labels)\n",
    "print('Test accuracy: %.3f' % clf.score(X_test_prepared[:, 9:], y_test))\n",
    "y_pred = clf.predict(X_test_prepared[:, 9:])\n",
    "print('Test recall: %.3f' % recall_score(y_test, y_pred, pos_label=\"yes\"))"
   ]
  },
  {
   "cell_type": "code",
   "execution_count": 19,
   "metadata": {
    "collapsed": true
   },
   "outputs": [],
   "source": [
    "# play around with decision thresholds\n",
    "y_labels = BernoulliNB().fit(bank_bernoulli, bank_labels).predict(X_test_prepared[:, 9:])\n",
    "y_probas = BernoulliNB().fit(bank_bernoulli, bank_labels).predict_proba(X_test_prepared[:, 9:])[:, 1]"
   ]
  },
  {
   "cell_type": "code",
   "execution_count": 20,
   "metadata": {
    "collapsed": true
   },
   "outputs": [],
   "source": [
    "# New labels\n",
    "def update_labels(y, threshold=0.5):\n",
    "    if y > threshold:\n",
    "        label = 1\n",
    "    else:\n",
    "        label = 0\n",
    "\n",
    "    return label"
   ]
  },
  {
   "cell_type": "code",
   "execution_count": 21,
   "metadata": {
    "collapsed": false
   },
   "outputs": [
    {
     "name": "stdout",
     "output_type": "stream",
     "text": [
      "Precision: 0.172\n",
      "Recall: 0.801\n",
      "F1: 0.283\n"
     ]
    }
   ],
   "source": [
    "# higher recall\n",
    "new_labels = [update_labels(y, threshold=0.05) for y in list(y_probas)]\n",
    "y_test_binary = y_test.map(dict(yes=1, no=0)).values\n",
    "\n",
    "print('Precision: %.3f' % precision_score(y_true=y_test_binary, y_pred=new_labels))\n",
    "print('Recall: %.3f' % recall_score(y_true=y_test_binary, y_pred=new_labels))\n",
    "print('F1: %.3f' % f1_score(y_true=y_test_binary, y_pred=new_labels))"
   ]
  },
  {
   "cell_type": "code",
   "execution_count": 22,
   "metadata": {
    "collapsed": false
   },
   "outputs": [
    {
     "data": {
      "text/plain": [
       "8238"
      ]
     },
     "execution_count": 22,
     "metadata": {},
     "output_type": "execute_result"
    }
   ],
   "source": [
    "len(new_labels)"
   ]
  },
  {
   "cell_type": "code",
   "execution_count": 23,
   "metadata": {
    "collapsed": false
   },
   "outputs": [
    {
     "name": "stdout",
     "output_type": "stream",
     "text": [
      "[[3732 3578]\n",
      " [ 185  743]]\n"
     ]
    }
   ],
   "source": [
    "confmat = confusion_matrix(y_true=y_test_binary, y_pred=new_labels)\n",
    "print(confmat)"
   ]
  },
  {
   "cell_type": "markdown",
   "metadata": {},
   "source": [
    "## Ensembles"
   ]
  },
  {
   "cell_type": "code",
   "execution_count": 24,
   "metadata": {
    "collapsed": false
   },
   "outputs": [
    {
     "name": "stdout",
     "output_type": "stream",
     "text": [
      "BaggingClassifier Accuracy:  0.900218499636\n",
      "BaggingClassifier Recall:  0.178879310345\n"
     ]
    }
   ],
   "source": [
    "# Bagging\n",
    "bagging = BaggingClassifier(DecisionTreeClassifier(), n_estimators=500, max_samples=100, bootstrap=True)\n",
    "bagging.fit(bank_prepared, bank_labels)\n",
    "y_pred = bagging.predict(X_test_prepared)\n",
    "print(bagging.__class__.__name__, \"Accuracy: \", accuracy_score(y_test, y_pred))\n",
    "print(bagging.__class__.__name__, \"Recall: \", recall_score(y_test, y_pred, pos_label=\"yes\"))"
   ]
  },
  {
   "cell_type": "code",
   "execution_count": 25,
   "metadata": {
    "collapsed": false
   },
   "outputs": [
    {
     "name": "stdout",
     "output_type": "stream",
     "text": [
      "BaggingClassifier Accuracy:  0.901068220442\n",
      "BaggingClassifier Recall:  0.207974137931\n"
     ]
    }
   ],
   "source": [
    "# Pasting\n",
    "pasting = BaggingClassifier(DecisionTreeClassifier(), n_estimators=500, max_samples=100, bootstrap=False)\n",
    "pasting.fit(bank_prepared, bank_labels)\n",
    "y_pred = pasting.predict(X_test_prepared)\n",
    "print(pasting.__class__.__name__, \"Accuracy: \", accuracy_score(y_test, y_pred))\n",
    "print(pasting.__class__.__name__, \"Recall: \", recall_score(y_test, y_pred, pos_label=\"yes\"))"
   ]
  },
  {
   "cell_type": "code",
   "execution_count": 26,
   "metadata": {
    "collapsed": false
   },
   "outputs": [
    {
     "name": "stdout",
     "output_type": "stream",
     "text": [
      "RandomForestClassifier Accuracy:  0.8951201748\n",
      "RandomForestClassifier Recall:  0.29525862069\n"
     ]
    }
   ],
   "source": [
    "# Random Forests\n",
    "rf = RandomForestClassifier(n_estimators=100)\n",
    "rf.fit(bank_prepared, bank_labels)\n",
    "y_pred = rf.predict(X_test_prepared)\n",
    "print(rf.__class__.__name__, \"Accuracy: \", accuracy_score(y_test, y_pred))\n",
    "print(rf.__class__.__name__, \"Recall: \", recall_score(y_test, y_pred, pos_label=\"yes\"))"
   ]
  },
  {
   "cell_type": "code",
   "execution_count": 27,
   "metadata": {
    "collapsed": false
   },
   "outputs": [
    {
     "name": "stdout",
     "output_type": "stream",
     "text": [
      "ExtraTreesClassifier Accuracy:  0.882374362709\n",
      "ExtraTreesClassifier Recall:  0.29525862069\n"
     ]
    }
   ],
   "source": [
    "# Extremely Randomized Trees\n",
    "erf = ExtraTreesClassifier(n_estimators=100)\n",
    "erf.fit(bank_prepared, bank_labels)\n",
    "y_pred = erf.predict(X_test_prepared)\n",
    "print(erf.__class__.__name__, \"Accuracy: \", accuracy_score(y_test, y_pred))\n",
    "print(erf.__class__.__name__, \"Recall: \", recall_score(y_test, y_pred, pos_label=\"yes\"))"
   ]
  },
  {
   "cell_type": "code",
   "execution_count": 28,
   "metadata": {
    "collapsed": false
   },
   "outputs": [
    {
     "data": {
      "text/plain": [
       "VotingClassifier(estimators=[('lr', LogisticRegression(C=1.0, class_weight=None, dual=False, fit_intercept=True,\n",
       "          intercept_scaling=1, max_iter=100, multi_class='ovr', n_jobs=1,\n",
       "          penalty='l2', random_state=None, solver='liblinear', tol=0.0001,\n",
       "          verbose=0, warm_start=False)), ('rf', RandomF...imators=10, n_jobs=1, oob_score=False, random_state=None,\n",
       "            verbose=0, warm_start=False))],\n",
       "         n_jobs=1, voting='soft', weights=None)"
      ]
     },
     "execution_count": 28,
     "metadata": {},
     "output_type": "execute_result"
    }
   ],
   "source": [
    "# Majority voting \n",
    "log_clf = LogisticRegression()\n",
    "dt_clf = DecisionTreeClassifier()\n",
    "rnd_clf = RandomForestClassifier()\n",
    "\n",
    "voting_clf = VotingClassifier(\n",
    "    estimators=[('lr', log_clf), ('rf', rnd_clf)],\n",
    "    voting='soft'\n",
    ")\n",
    "\n",
    "voting_clf.fit(bank_prepared, bank_labels)"
   ]
  },
  {
   "cell_type": "code",
   "execution_count": 29,
   "metadata": {
    "collapsed": false
   },
   "outputs": [
    {
     "name": "stdout",
     "output_type": "stream",
     "text": [
      "LogisticRegression Accuracy: 0.901189609128\n",
      "LogisticRegression Recall: 0.223060344828\n",
      "DecisionTreeClassifier Accuracy: 0.84158776402\n",
      "DecisionTreeClassifier Recall: 0.332974137931\n",
      "RandomForestClassifier Accuracy: 0.893784899247\n",
      "RandomForestClassifier Recall: 0.274784482759\n",
      "VotingClassifier Accuracy: 0.900704054382\n",
      "VotingClassifier Recall: 0.258620689655\n"
     ]
    }
   ],
   "source": [
    "for clf in (log_clf, dt_clf, rnd_clf, voting_clf):\n",
    "    clf.fit(bank_prepared, bank_labels)\n",
    "    y_pred = clf.predict(X_test_prepared)\n",
    "    print(clf.__class__.__name__, \"Accuracy:\", accuracy_score(y_test, y_pred))\n",
    "    print(clf.__class__.__name__, \"Recall:\", recall_score(y_test, y_pred, pos_label=\"yes\"))"
   ]
  },
  {
   "cell_type": "code",
   "execution_count": 30,
   "metadata": {
    "collapsed": false
   },
   "outputs": [
    {
     "name": "stdout",
     "output_type": "stream",
     "text": [
      "AdaBoostClassifier Accuracy:  0.902524884681\n",
      "AdaBoostClassifier Recall:  0.213362068966\n"
     ]
    }
   ],
   "source": [
    "# Boosting\n",
    "ada_clf = AdaBoostClassifier(\n",
    "    DecisionTreeClassifier(max_depth=1), n_estimators=200,\n",
    "    algorithm=\"SAMME.R\", learning_rate=0.5, random_state=0)\n",
    "ada_clf.fit(bank_prepared, bank_labels)\n",
    "y_pred = ada_clf.predict(X_test_prepared)\n",
    "print(ada_clf.__class__.__name__, \"Accuracy: \", accuracy_score(y_test, y_pred))\n",
    "print(ada_clf.__class__.__name__, \"Recall: \", recall_score(y_test, y_pred, pos_label=\"yes\"))"
   ]
  },
  {
   "cell_type": "code",
   "execution_count": 31,
   "metadata": {
    "collapsed": false
   },
   "outputs": [
    {
     "name": "stdout",
     "output_type": "stream",
     "text": [
      "GradientBoostingClassifier Accuracy:  0.892206846322\n",
      "GradientBoostingClassifier Recall:  0.292025862069\n"
     ]
    }
   ],
   "source": [
    "gb_clf = GradientBoostingClassifier(max_depth=4, n_estimators=100, learning_rate=1.0, random_state=0)\n",
    "gb_clf.fit(bank_prepared, bank_labels)\n",
    "y_pred = gb_clf.predict(X_test_prepared)\n",
    "print(gb_clf.__class__.__name__, \"Accuracy: \", accuracy_score(y_test, y_pred))\n",
    "print(gb_clf.__class__.__name__, \"Recall: \", recall_score(y_test, y_pred, pos_label=\"yes\"))"
   ]
  },
  {
   "cell_type": "code",
   "execution_count": null,
   "metadata": {
    "collapsed": true
   },
   "outputs": [],
   "source": []
  }
 ],
 "metadata": {
  "anaconda-cloud": {},
  "kernelspec": {
   "display_name": "Python [default]",
   "language": "python",
   "name": "python3"
  },
  "language_info": {
   "codemirror_mode": {
    "name": "ipython",
    "version": 3
   },
   "file_extension": ".py",
   "mimetype": "text/x-python",
   "name": "python",
   "nbconvert_exporter": "python",
   "pygments_lexer": "ipython3",
   "version": "3.5.2"
  }
 },
 "nbformat": 4,
 "nbformat_minor": 1
}
