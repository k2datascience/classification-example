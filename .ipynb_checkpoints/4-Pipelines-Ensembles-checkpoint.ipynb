{
 "cells": [
  {
   "cell_type": "markdown",
   "metadata": {},
   "source": [
    "# Bank Classification Project - Pipelines & Ensembles\n",
    "\n",
    "\n",
    "- pipelines/feature union\n",
    "    - median / mode imputation\n",
    "    - binary with bernouli NB\n",
    "- custom transformers\n",
    "- voting classifiers\n",
    "- random forests\n",
    "- gradient boosting\n",
    "- stacking"
   ]
  },
  {
   "cell_type": "code",
   "execution_count": null,
   "metadata": {
    "collapsed": true
   },
   "outputs": [],
   "source": []
  }
 ],
 "metadata": {
  "kernelspec": {
   "display_name": "Python [default]",
   "language": "python",
   "name": "python3"
  },
  "language_info": {
   "codemirror_mode": {
    "name": "ipython",
    "version": 3
   },
   "file_extension": ".py",
   "mimetype": "text/x-python",
   "name": "python",
   "nbconvert_exporter": "python",
   "pygments_lexer": "ipython3",
   "version": "3.5.2"
  }
 },
 "nbformat": 4,
 "nbformat_minor": 1
}
